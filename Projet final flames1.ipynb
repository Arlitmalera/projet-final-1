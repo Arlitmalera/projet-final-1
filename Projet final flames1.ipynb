{
 "cells": [
  {
   "cell_type": "code",
   "execution_count": 1,
   "id": "27edaa32",
   "metadata": {},
   "outputs": [
    {
     "name": "stdout",
     "output_type": "stream",
     "text": [
      "Entrez le nom du joueur 1 : ADORA\n",
      "Entrez le nom du joueur 2 : CHARIS\n",
      "Ennemis\n"
     ]
    }
   ],
   "source": [
    "def flames(joueur1, joueur2):\n",
    "    # Convertir les noms en minuscules pour éviter les erreurs de casse\n",
    "    joueur1 = joueur1.lower()\n",
    "    joueur2 = joueur2.lower()\n",
    "\n",
    "    # Créer des listes de caractères pour chaque nom\n",
    "    liste1 = list(joueur1)\n",
    "    liste2 = list(joueur2)\n",
    "\n",
    "    # Trouver les caractères communs\n",
    "    communs = []\n",
    "    for caractere in liste1:\n",
    "        if caractere in liste2:\n",
    "            communs.append(caractere)\n",
    "            liste2.remove(caractere)\n",
    "\n",
    "    # Supprimer les caractères communs des deux listes\n",
    "    for caractere in communs:\n",
    "        liste1.remove(caractere)\n",
    "\n",
    "    # Combiner les deux listes restantes en une seule\n",
    "    restants = liste1 + liste2\n",
    "\n",
    "    # Obtenir le nombre de caractères restants\n",
    "    nombre_restants = len(restants)\n",
    "\n",
    "    # Liste des lettres FLAMES\n",
    "    lettres_flames = [\"F\", \"L\", \"A\", \"M\", \"E\", \"S\"]\n",
    "\n",
    "    # Supprimer les lettres FLAMES en utilisant le nombre de caractères restants\n",
    "    index = 0\n",
    "    while len(lettres_flames) > 1:\n",
    "        index = (index + nombre_restants - 1) % len(lettres_flames)\n",
    "        lettres_flames.pop(index)\n",
    "\n",
    "    # Le résultat est la lettre restante\n",
    "    resultat = lettres_flames[0]\n",
    "\n",
    "    # Afficher l'état de la relation\n",
    "    if resultat == \"F\":\n",
    "        print(\"Flirt\")\n",
    "    elif resultat == \"L\":\n",
    "        print(\"Amis\")\n",
    "    elif resultat == \"A\":\n",
    "        print(\"Amour\")\n",
    "    elif resultat == \"M\":\n",
    "        print(\"Mariage\")\n",
    "    elif resultat == \"E\":\n",
    "        print(\"Ennemis\")\n",
    "    elif resultat == \"S\":\n",
    "        print(\"Âme soeur\")\n",
    "\n",
    "joueur1 = input(\"Entrez le nom du joueur 1 : \")\n",
    "joueur2 = input(\"Entrez le nom du joueur 2 : \")\n",
    "flames(joueur1, joueur2)"
   ]
  }
 ],
 "metadata": {
  "kernelspec": {
   "display_name": "Python 3 (ipykernel)",
   "language": "python",
   "name": "python3"
  },
  "language_info": {
   "codemirror_mode": {
    "name": "ipython",
    "version": 3
   },
   "file_extension": ".py",
   "mimetype": "text/x-python",
   "name": "python",
   "nbconvert_exporter": "python",
   "pygments_lexer": "ipython3",
   "version": "3.9.13"
  }
 },
 "nbformat": 4,
 "nbformat_minor": 5
}
